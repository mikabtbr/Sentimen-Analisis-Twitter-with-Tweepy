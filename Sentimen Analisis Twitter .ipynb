{
 "cells": [
  {
   "cell_type": "code",
   "execution_count": 151,
   "metadata": {
    "ExecuteTime": {
     "end_time": "2021-03-09T02:53:58.487638Z",
     "start_time": "2021-03-09T02:53:58.429793Z"
    }
   },
   "outputs": [],
   "source": [
    "import pandas as pd\n",
    "import numpy as np\n",
    "import seaborn as sns\n",
    "import matplotlib.pyplot as plt\n",
    "\n",
    "pd.set_option('display.max_rows', 100)\n",
    "pd.set_option('display.max_columns',None)\n",
    "from matplotlib import style\n",
    "import warnings\n",
    "warnings.filterwarnings(\"ignore\")\n",
    "import mplcyberpunk\n",
    "style.use('cyberpunk')\n",
    "import tweepy\n",
    "import re\n",
    "import sys\n",
    "import geocoder\n",
    "from textblob import TextBlob\n",
    "%matplotlib inline\n",
    "\n",
    "from jupyterthemes import jtplot\n",
    "jtplot.style(theme='monokai', context='notebook', ticks=True, grid=False)\n"
   ]
  },
  {
   "cell_type": "code",
   "execution_count": 152,
   "metadata": {
    "ExecuteTime": {
     "end_time": "2021-03-09T02:53:58.549472Z",
     "start_time": "2021-03-09T02:53:58.530523Z"
    }
   },
   "outputs": [],
   "source": [
    "#key preparation\n",
    "consumer_key = \"dTXuRJTUcNBhvB6mYEaPbXllS\"\n",
    "consumer_secret = \"3zxof8B0CCVrYmCHOISPMTO7I2bM68jRiBZFhhiioTGylque61\"\n",
    "access_token = \"1363725829335752705-bQPXXW63tBv1opfScm6iknI3Tk1uOb\"\n",
    "access_token_secret = \"eo4xe57BTDO9klPDsiLZBqw6NHpL175yxGOOwvTENB25W\"\n",
    "\n",
    "#create handler outh\n",
    "auth = tweepy.OAuthHandler(consumer_key, consumer_secret)\n",
    "auth.set_access_token(access_token, access_token_secret)\n",
    "api = tweepy.API(auth)\n",
    "\n"
   ]
  },
  {
   "cell_type": "code",
   "execution_count": 153,
   "metadata": {
    "ExecuteTime": {
     "end_time": "2021-03-09T02:53:59.969812Z",
     "start_time": "2021-03-09T02:53:58.739852Z"
    }
   },
   "outputs": [
    {
     "name": "stdout",
     "output_type": "stream",
     "text": [
      "Demokrat Bikin Gaduh None\n",
      "RESPECT ZHANG YIXING 139049\n",
      "Selamat Hari Musik Nasional None\n",
      "#슈가생일ᄎᄏ 2766765\n",
      "Young Lex 51861\n"
     ]
    }
   ],
   "source": [
    "indo_woeid = 23424846\n",
    "results = api.trends_place(indo_woeid)\n",
    "for trend in results[0]['trends'][:5]:\n",
    "    print(trend['name'],trend['tweet_volume'])"
   ]
  },
  {
   "cell_type": "code",
   "execution_count": 154,
   "metadata": {
    "ExecuteTime": {
     "end_time": "2021-03-09T02:53:59.985809Z",
     "start_time": "2021-03-09T02:53:59.972804Z"
    }
   },
   "outputs": [],
   "source": [
    "search_words = \"Senin\"\n",
    "date_since = \"2021-03-08\"\n",
    "new_search = search_words + \" -filter:retweets\"\n",
    "\n",
    "tweets = tweepy.Cursor(api.search,\n",
    "        q=new_search,\n",
    "        lang=\"id\",\n",
    "        tweet_mode='extended',\n",
    "        since=date_since).items(50)"
   ]
  },
  {
   "cell_type": "code",
   "execution_count": 155,
   "metadata": {
    "ExecuteTime": {
     "end_time": "2021-03-09T02:54:06.076506Z",
     "start_time": "2021-03-09T02:53:59.989788Z"
    }
   },
   "outputs": [],
   "source": [
    "items = []\n",
    "for tweet in tweets:\n",
    "    items.append (' '.join(re.sub(\"(@[A-Za-z0-9]+)|([^0-9A-Za-z \\t])|(\\w+:\\/\\/\\S+)\", \" \", tweet.full_text).split()))\n",
    "df = pd.DataFrame(data=items, columns=['tweet'])"
   ]
  },
  {
   "cell_type": "code",
   "execution_count": 156,
   "metadata": {
    "ExecuteTime": {
     "end_time": "2021-03-09T02:54:06.107384Z",
     "start_time": "2021-03-09T02:54:06.083449Z"
    },
    "scrolled": false
   },
   "outputs": [
    {
     "data": {
      "text/html": [
       "<div>\n",
       "<style scoped>\n",
       "    .dataframe tbody tr th:only-of-type {\n",
       "        vertical-align: middle;\n",
       "    }\n",
       "\n",
       "    .dataframe tbody tr th {\n",
       "        vertical-align: top;\n",
       "    }\n",
       "\n",
       "    .dataframe thead th {\n",
       "        text-align: right;\n",
       "    }\n",
       "</style>\n",
       "<table border=\"1\" class=\"dataframe\">\n",
       "  <thead>\n",
       "    <tr style=\"text-align: right;\">\n",
       "      <th></th>\n",
       "      <th>tweet</th>\n",
       "    </tr>\n",
       "  </thead>\n",
       "  <tbody>\n",
       "    <tr>\n",
       "      <th>0</th>\n",
       "      <td>Senin 8 Maret 2021 personel Lab BRPSDI yang di...</td>\n",
       "    </tr>\n",
       "    <tr>\n",
       "      <th>1</th>\n",
       "      <td>Harapkan Dukungan Pelaksanaan Tugas Fungsi Div...</td>\n",
       "    </tr>\n",
       "    <tr>\n",
       "      <th>2</th>\n",
       "      <td>Mulai 8 Maret 2021 TV3 Malaysia mengubah jadwa...</td>\n",
       "    </tr>\n",
       "    <tr>\n",
       "      <th>3</th>\n",
       "      <td>Ga suka hari Senin</td>\n",
       "    </tr>\n",
       "    <tr>\n",
       "      <th>4</th>\n",
       "      <td>Senin aja ah</td>\n",
       "    </tr>\n",
       "  </tbody>\n",
       "</table>\n",
       "</div>"
      ],
      "text/plain": [
       "                                               tweet\n",
       "0  Senin 8 Maret 2021 personel Lab BRPSDI yang di...\n",
       "1  Harapkan Dukungan Pelaksanaan Tugas Fungsi Div...\n",
       "2  Mulai 8 Maret 2021 TV3 Malaysia mengubah jadwa...\n",
       "3                                 Ga suka hari Senin\n",
       "4                                       Senin aja ah"
      ]
     },
     "execution_count": 156,
     "metadata": {},
     "output_type": "execute_result"
    }
   ],
   "source": [
    "df.head()"
   ]
  },
  {
   "cell_type": "code",
   "execution_count": 157,
   "metadata": {
    "ExecuteTime": {
     "end_time": "2021-03-09T02:54:06.137305Z",
     "start_time": "2021-03-09T02:54:06.114365Z"
    }
   },
   "outputs": [],
   "source": [
    "\n",
    "# Load Training set into array\n",
    "file_negatif = open('kata_negatif.txt','r')\n",
    "file_positif = open('kata_positif.txt','r')\n",
    "pos_kata = file_positif.readlines()\n",
    "neg_kata = file_negatif.readlines()\n",
    "# pos_kata\n"
   ]
  },
  {
   "cell_type": "code",
   "execution_count": 158,
   "metadata": {
    "ExecuteTime": {
     "end_time": "2021-03-09T02:54:07.953584Z",
     "start_time": "2021-03-09T02:54:06.142337Z"
    }
   },
   "outputs": [
    {
     "name": "stdout",
     "output_type": "stream",
     "text": [
      "Senin 8 Maret 2021 personel Lab BRPSDI yang diwakili oleh Manajer Teknis Deputi Manajer Teknis dan para Penyelia berkoordinasi untuk menindaklanjuti temuan survailance II oleh KAN yang sdh dilaksanakan di tanggal 26 Februari 2021\n",
      "['Senin', '8', 'Maret', '2021', 'personel', 'Lab', 'BRPSDI', 'yang', 'diwakili', 'oleh', 'Manajer', 'Teknis', 'Deputi', 'Manajer', 'Teknis', 'dan', 'para', 'Penyelia', 'berkoordinasi', 'untuk', 'menindaklanjuti', 'temuan', 'survailance', 'II', 'oleh', 'KAN', 'yang', 'sdh', 'dilaksanakan', 'di', 'tanggal', '26', 'Februari', '2021']\n",
      "berkoordinasi\n",
      " ['positif']\n",
      "menindaklanjuti\n",
      " ['positif']\n",
      "positif :2\n",
      "negatif :0\n",
      "==============================================\n",
      "Harapkan Dukungan Pelaksanaan Tugas Fungsi Divisi Keimigrasian Kanwil Kalsel Lakukan Audiensi ke Ditjen Imigrasi dan Ditjen KI pada Senin 8 Maret 2021\n",
      "['Harapkan', 'Dukungan', 'Pelaksanaan', 'Tugas', 'Fungsi', 'Divisi', 'Keimigrasian', 'Kanwil', 'Kalsel', 'Lakukan', 'Audiensi', 'ke', 'Ditjen', 'Imigrasi', 'dan', 'Ditjen', 'KI', 'pada', 'Senin', '8', 'Maret', '2021']\n",
      "harapkan\n",
      " ['positif']\n",
      "dukungan\n",
      " ['positif']\n",
      "positif :2\n",
      "negatif :0\n",
      "==============================================\n",
      "Mulai 8 Maret 2021 TV3 Malaysia mengubah jadwal tayang Slot Akasia setiap hari Senin sampai Minggu pukul 19 00 waktu Malaysia\n",
      "['Mulai', '8', 'Maret', '2021', 'TV3', 'Malaysia', 'mengubah', 'jadwal', 'tayang', 'Slot', 'Akasia', 'setiap', 'hari', 'Senin', 'sampai', 'Minggu', 'pukul', '19', '00', 'waktu', 'Malaysia']\n",
      "positif :0\n",
      "negatif :0\n",
      "==============================================\n",
      "Ga suka hari Senin\n",
      "['Ga', 'suka', 'hari', 'Senin']\n",
      "suka\n",
      " ['positif']\n",
      "positif :1\n",
      "negatif :0\n",
      "==============================================\n",
      "Senin aja ah\n",
      "['Senin', 'aja', 'ah']\n",
      "positif :0\n",
      "negatif :0\n",
      "==============================================\n",
      "angelxx Lah kampus gua sampe sabtu cess wkwk Senin sabtu wlwk\n",
      "['angelxx', 'Lah', 'kampus', 'gua', 'sampe', 'sabtu', 'cess', 'wkwk', 'Senin', 'sabtu', 'wlwk']\n",
      "positif :0\n",
      "negatif :0\n",
      "==============================================\n",
      "pada ngajakin balik Bontang selesai ujian jarnya sempat sempatin dulu balik sebelum berperang senin depan\n",
      "['pada', 'ngajakin', 'balik', 'Bontang', 'selesai', 'ujian', 'jarnya', 'sempat', 'sempatin', 'dulu', 'balik', 'sebelum', 'berperang', 'senin', 'depan']\n",
      "selesai\n",
      " ['positif']\n",
      "positif :1\n",
      "negatif :0\n",
      "==============================================\n",
      "Knp Senin ke minggu lama tapi klo minggu ke Senin cepet\n",
      "['Knp', 'Senin', 'ke', 'minggu', 'lama', 'tapi', 'klo', 'minggu', 'ke', 'Senin', 'cepet']\n",
      "lama\n",
      " ['negatif']\n",
      "positif :0\n",
      "negatif :1\n",
      "==============================================\n",
      "enak ya kelas cuma 1 tuh gaenaknya jadi senin jumat\n",
      "['enak', 'ya', 'kelas', 'cuma', '1', 'tuh', 'gaenaknya', 'jadi', 'senin', 'jumat']\n",
      "enak\n",
      " ['positif']\n",
      "cuma\n",
      " ['negatif']\n",
      "positif :1\n",
      "negatif :1\n",
      "==============================================\n",
      "POLSEK LENGKONG PATROLI DAN IMBAUAN CEGAH COVID 19 Selain menjaga Kamtibmas yang aman dan kondusif Personel Polsek Lengkong Polres Nganjuk Polda Jatim melaksanakan Patroli dan Imbauan Pencegahan Covid 19 di Desa Lengkong Senin 08 03 2021 siang\n",
      "['POLSEK', 'LENGKONG', 'PATROLI', 'DAN', 'IMBAUAN', 'CEGAH', 'COVID', '19', 'Selain', 'menjaga', 'Kamtibmas', 'yang', 'aman', 'dan', 'kondusif', 'Personel', 'Polsek', 'Lengkong', 'Polres', 'Nganjuk', 'Polda', 'Jatim', 'melaksanakan', 'Patroli', 'dan', 'Imbauan', 'Pencegahan', 'Covid', '19', 'di', 'Desa', 'Lengkong', 'Senin', '08', '03', '2021', 'siang']\n",
      "patroli\n",
      " ['positif']\n",
      "menjaga\n",
      " ['positif']\n",
      "aman\n",
      " ['positif']\n",
      "kondusif\n",
      " ['positif']\n",
      "patroli\n",
      " ['positif']\n",
      "positif :5\n",
      "negatif :0\n",
      "==============================================\n",
      "Sebel banget sama dosen jadwal kuliah jam 8 30 malah ditarik jadi jam 6 30 mana senin lagi Aku tuh ga bisa bangun pagiii\n",
      "['Sebel', 'banget', 'sama', 'dosen', 'jadwal', 'kuliah', 'jam', '8', '30', 'malah', 'ditarik', 'jadi', 'jam', '6', '30', 'mana', 'senin', 'lagi', 'Aku', 'tuh', 'ga', 'bisa', 'bangun', 'pagiii']\n",
      "bisa\n",
      " ['positif']\n",
      "positif :1\n",
      "negatif :0\n",
      "==============================================\n",
      "dari awal bgt ada one dream talk x today sama to do tiap hari senin\n",
      "['dari', 'awal', 'bgt', 'ada', 'one', 'dream', 'talk', 'x', 'today', 'sama', 'to', 'do', 'tiap', 'hari', 'senin']\n",
      "positif :0\n",
      "negatif :0\n",
      "==============================================\n",
      "gasabar senin lagi\n",
      "['gasabar', 'senin', 'lagi']\n",
      "positif :0\n",
      "negatif :0\n",
      "==============================================\n",
      "Masih senin aja Padahal sekarang udah selasa\n",
      "['Masih', 'senin', 'aja', 'Padahal', 'sekarang', 'udah', 'selasa']\n",
      "padahal\n",
      " ['negatif']\n",
      "positif :0\n",
      "negatif :1\n",
      "==============================================\n",
      "Bismillah Kurs 09 Maret 2021 Ara moneychanger Free delivery service Business Hour Senin Jum at 09 00 sd 16 00 WIB Sabtu 09 00 sd 14 00 WIB Minggu dan hari besar libur Mobile 08122 122 505 valuta valutaasing moneychanger freedeliveryservice Jakarta\n",
      "['Bismillah', 'Kurs', '09', 'Maret', '2021', 'Ara', 'moneychanger', 'Free', 'delivery', 'service', 'Business', 'Hour', 'Senin', 'Jum', 'at', '09', '00', 'sd', '16', '00', 'WIB', 'Sabtu', '09', '00', 'sd', '14', '00', 'WIB', 'Minggu', 'dan', 'hari', 'besar', 'libur', 'Mobile', '08122', '122', '505', 'valuta', 'valutaasing', 'moneychanger', 'freedeliveryservice', 'Jakarta']\n",
      "bismillah\n",
      " ['positif']\n",
      "positif :1\n",
      "negatif :0\n",
      "==============================================\n",
      "ga sabar bntr lg juga senin\n",
      "['ga', 'sabar', 'bntr', 'lg', 'juga', 'senin']\n",
      "sabar\n",
      " ['positif']\n",
      "sabar\n",
      " ['positif']\n",
      "positif :2\n",
      "negatif :0\n",
      "==============================================\n",
      "SEMALEM KAN SENIN KA LALU DUA HARI YG LALU SUNDAY\n",
      "['SEMALEM', 'KAN', 'SENIN', 'KA', 'LALU', 'DUA', 'HARI', 'YG', 'LALU', 'SUNDAY']\n",
      "positif :0\n",
      "negatif :0\n",
      "==============================================\n",
      "senin kuliahhhhhhhhh\n",
      "['senin', 'kuliahhhhhhhhh']\n",
      "positif :0\n",
      "negatif :0\n",
      "==============================================\n",
      "Penambahan kasus terkonfirmasi Covid 19 di DIY hari Senin 8 3 sebanyak 167 kasus sehingga total kasus terkonfirmasi menjadi 29 154 kasus\n",
      "['Penambahan', 'kasus', 'terkonfirmasi', 'Covid', '19', 'di', 'DIY', 'hari', 'Senin', '8', '3', 'sebanyak', '167', 'kasus', 'sehingga', 'total', 'kasus', 'terkonfirmasi', 'menjadi', '29', '154', 'kasus']\n",
      "kasus\n",
      " ['negatif']\n",
      "kasus\n",
      " ['negatif']\n",
      "kasus\n",
      " ['negatif']\n",
      "kasus\n",
      " ['negatif']\n",
      "positif :0\n",
      "negatif :4\n",
      "==============================================\n",
      "Pagi min sekarang udah hari selasa gimana janjinya dengan laptop saya yang dibenerin malah makin rusak lagi Di mana tanggungjawab nya malah tetap lama pelayanannya katanya katanya sih senin udah ada updateny tapi skrg udah selasa tuh Lol\n",
      "['Pagi', 'min', 'sekarang', 'udah', 'hari', 'selasa', 'gimana', 'janjinya', 'dengan', 'laptop', 'saya', 'yang', 'dibenerin', 'malah', 'makin', 'rusak', 'lagi', 'Di', 'mana', 'tanggungjawab', 'nya', 'malah', 'tetap', 'lama', 'pelayanannya', 'katanya', 'katanya', 'sih', 'senin', 'udah', 'ada', 'updateny', 'tapi', 'skrg', 'udah', 'selasa', 'tuh', 'Lol']\n",
      "rusak\n",
      " ['negatif']\n",
      "lama\n",
      " ['negatif']\n",
      "positif :0\n",
      "negatif :2\n",
      "==============================================\n",
      "Samaa nderr tapi aku kuliah senin sampai jumat\n",
      "['Samaa', 'nderr', 'tapi', 'aku', 'kuliah', 'senin', 'sampai', 'jumat']\n",
      "positif :0\n",
      "negatif :0\n",
      "==============================================\n",
      "Pelatihan Penyusunan Dokumen Rencana Perlindungan dan Pengelolaan Lingkungan Hidup RPPLH Gelombang 5 Tanggal 22 26 Maret 2021 Hari Senin Jum at Informasi\n",
      "['Pelatihan', 'Penyusunan', 'Dokumen', 'Rencana', 'Perlindungan', 'dan', 'Pengelolaan', 'Lingkungan', 'Hidup', 'RPPLH', 'Gelombang', '5', 'Tanggal', '22', '26', 'Maret', '2021', 'Hari', 'Senin', 'Jum', 'at', 'Informasi']\n",
      "hidup\n",
      " ['positif']\n",
      "positif :1\n",
      "negatif :0\n",
      "==============================================\n",
      "Pelatihan Pemodelan Kualitas Udara AERMOD CALPUFF dan HSYPLIT Gelombang 1 Tanggal 15 19 Maret 2021 Hari Senin Jum at Informasi\n",
      "['Pelatihan', 'Pemodelan', 'Kualitas', 'Udara', 'AERMOD', 'CALPUFF', 'dan', 'HSYPLIT', 'Gelombang', '1', 'Tanggal', '15', '19', 'Maret', '2021', 'Hari', 'Senin', 'Jum', 'at', 'Informasi']\n",
      "positif :0\n",
      "negatif :0\n",
      "==============================================\n",
      "Kapolres Lumajang AKBP Eka Yekti Hananto Seno S I K bersama Kanit Laka Satlantas Melaksanakan kegiatan Pengecekan jalur Blackspot di Kecamatan Ranuyoso Kabupaten Lumajang hari Senin tanggal 8 Maret 2021 pukul 10 00 Wib BersamaBersinergi\n",
      "['Kapolres', 'Lumajang', 'AKBP', 'Eka', 'Yekti', 'Hananto', 'Seno', 'S', 'I', 'K', 'bersama', 'Kanit', 'Laka', 'Satlantas', 'Melaksanakan', 'kegiatan', 'Pengecekan', 'jalur', 'Blackspot', 'di', 'Kecamatan', 'Ranuyoso', 'Kabupaten', 'Lumajang', 'hari', 'Senin', 'tanggal', '8', 'Maret', '2021', 'pukul', '10', '00', 'Wib', 'BersamaBersinergi']\n",
      "bersama\n",
      " ['positif']\n",
      "positif :1\n",
      "negatif :0\n",
      "==============================================\n",
      "Mendes PDTT Abdul Halim Iskandar menjadi pembicara kunci dalam Webinar secara Virtual dengan tema Dana Desa di Era Pandemi Covid 19 yang diselenggarakan oleh Tribun News Network pada Senin 8 3 2021 SDGsDesa MulaiDariDesa DesaBisa KemendesPDTT\n",
      "['Mendes', 'PDTT', 'Abdul', 'Halim', 'Iskandar', 'menjadi', 'pembicara', 'kunci', 'dalam', 'Webinar', 'secara', 'Virtual', 'dengan', 'tema', 'Dana', 'Desa', 'di', 'Era', 'Pandemi', 'Covid', '19', 'yang', 'diselenggarakan', 'oleh', 'Tribun', 'News', 'Network', 'pada', 'Senin', '8', '3', '2021', 'SDGsDesa', 'MulaiDariDesa', 'DesaBisa', 'KemendesPDTT']\n",
      "pandemi\n",
      " ['negatif']\n",
      "positif :0\n",
      "negatif :1\n",
      "==============================================\n",
      "pernah nih dari instansi lain ND dikirim selasa buat rapat rabu disposisinya baru sampe ke gue senin depannya wkwkw\n",
      "['pernah', 'nih', 'dari', 'instansi', 'lain', 'ND', 'dikirim', 'selasa', 'buat', 'rapat', 'rabu', 'disposisinya', 'baru', 'sampe', 'ke', 'gue', 'senin', 'depannya', 'wkwkw']\n",
      "positif :0\n",
      "negatif :0\n",
      "==============================================\n",
      "Selamat pagi Kak layanan rute 7C Cibubur BKN beroperasi melayani pelanggan hanya di hari kerja senin s d jumat pukul 05 00 10 00 WIB amp beroperasi kembali pukul 15 00 21 00 WIB dari Cibubur dan pukul 22 00 WIB dari BKN Terima kasih RA\n",
      "['Selamat', 'pagi', 'Kak', 'layanan', 'rute', '7C', 'Cibubur', 'BKN', 'beroperasi', 'melayani', 'pelanggan', 'hanya', 'di', 'hari', 'kerja', 'senin', 's', 'd', 'jumat', 'pukul', '05', '00', '10', '00', 'WIB', 'amp', 'beroperasi', 'kembali', 'pukul', '15', '00', '21', '00', 'WIB', 'dari', 'Cibubur', 'dan', 'pukul', '22', '00', 'WIB', 'dari', 'BKN', 'Terima', 'kasih', 'RA']\n",
      "selamat\n",
      " ['positif']\n"
     ]
    },
    {
     "name": "stdout",
     "output_type": "stream",
     "text": [
      "hanya\n",
      " ['negatif']\n",
      "kerja\n",
      " ['positif']\n",
      "kasih\n",
      " ['positif']\n",
      "positif :3\n",
      "negatif :1\n",
      "==============================================\n",
      "senin selasa sangat amat membentuk mental sekali banget\n",
      "['senin', 'selasa', 'sangat', 'amat', 'membentuk', 'mental', 'sekali', 'banget']\n",
      "positif :0\n",
      "negatif :0\n",
      "==============================================\n",
      "Indonesia kembali menerima pengiriman vaksin C0vid 19 Pada Senin 8 Maret 2021 sebanyak 1 1 juta dosis vaksin yg diperoleh melalui skema kerja sama multilateral tiba di Bandara Internasional Soekarno Hatta Tangerang sekira pukul 17 45 WIB\n",
      "['Indonesia', 'kembali', 'menerima', 'pengiriman', 'vaksin', 'C0vid', '19', 'Pada', 'Senin', '8', 'Maret', '2021', 'sebanyak', '1', '1', 'juta', 'dosis', 'vaksin', 'yg', 'diperoleh', 'melalui', 'skema', 'kerja', 'sama', 'multilateral', 'tiba', 'di', 'Bandara', 'Internasional', 'Soekarno', 'Hatta', 'Tangerang', 'sekira', 'pukul', '17', '45', 'WIB']\n",
      "menerima\n",
      " ['positif']\n",
      "kerja\n",
      " ['positif']\n",
      "positif :2\n",
      "negatif :0\n",
      "==============================================\n",
      "YELLOW SQUAD Kegiatan Respon Genangan di Jl Jenderal Sudirman oleh PJLP Lapangan Kecamatan Setiabudi Senin 8 Maret 2021 BeritaJakarta InfoJakarta PasukanKuning\n",
      "['YELLOW', 'SQUAD', 'Kegiatan', 'Respon', 'Genangan', 'di', 'Jl', 'Jenderal', 'Sudirman', 'oleh', 'PJLP', 'Lapangan', 'Kecamatan', 'Setiabudi', 'Senin', '8', 'Maret', '2021', 'BeritaJakarta', 'InfoJakarta', 'PasukanKuning']\n",
      "positif :0\n",
      "negatif :0\n",
      "==============================================\n",
      "Kapolres Lumajang AKBP Eka Yekti Hananto Seno S I K bersama Kanit Laka Satlantas Melaksanakan kegiatan Pengecekan jalur Blackspot di Kecamatan Ranuyoso Kab Lumajang hari Senin tanggal 8 Maret 2021 pukul 10 00 Wib BersamaBersinergi jawatimurbangkit\n",
      "['Kapolres', 'Lumajang', 'AKBP', 'Eka', 'Yekti', 'Hananto', 'Seno', 'S', 'I', 'K', 'bersama', 'Kanit', 'Laka', 'Satlantas', 'Melaksanakan', 'kegiatan', 'Pengecekan', 'jalur', 'Blackspot', 'di', 'Kecamatan', 'Ranuyoso', 'Kab', 'Lumajang', 'hari', 'Senin', 'tanggal', '8', 'Maret', '2021', 'pukul', '10', '00', 'Wib', 'BersamaBersinergi', 'jawatimurbangkit']\n",
      "bersama\n",
      " ['positif']\n",
      "positif :1\n",
      "negatif :0\n",
      "==============================================\n",
      "KepoNotes suka hari senin selasa\n",
      "['KepoNotes', 'suka', 'hari', 'senin', 'selasa']\n",
      "suka\n",
      " ['positif']\n",
      "positif :1\n",
      "negatif :0\n",
      "==============================================\n",
      "Patroli sambang pantau obyek vital sampaikan himbuan kamtibmas dan Prokes Covid 19 kepada petugas jaga malam SD Tegal Panggung Jl juminahan Tegal panggung Danurejan Senin 8 3 2021\n",
      "['Patroli', 'sambang', 'pantau', 'obyek', 'vital', 'sampaikan', 'himbuan', 'kamtibmas', 'dan', 'Prokes', 'Covid', '19', 'kepada', 'petugas', 'jaga', 'malam', 'SD', 'Tegal', 'Panggung', 'Jl', 'juminahan', 'Tegal', 'panggung', 'Danurejan', 'Senin', '8', '3', '2021']\n",
      "patroli\n",
      " ['positif']\n",
      "positif :1\n",
      "negatif :0\n",
      "==============================================\n",
      "210309 Topic Chenra Akdong Seoul minggu ini Senin Our Little Tree Hole Masalah atau Cerita Pribadi Selasa Music Wave Lagu baru Kpop Rabu Listening to The World Roma Kamis Moonlight Cinema Zootopia 2016 Jumat Random Corner timeless songs\n",
      "['210309', 'Topic', 'Chenra', 'Akdong', 'Seoul', 'minggu', 'ini', 'Senin', 'Our', 'Little', 'Tree', 'Hole', 'Masalah', 'atau', 'Cerita', 'Pribadi', 'Selasa', 'Music', 'Wave', 'Lagu', 'baru', 'Kpop', 'Rabu', 'Listening', 'to', 'The', 'World', 'Roma', 'Kamis', 'Moonlight', 'Cinema', 'Zootopia', '2016', 'Jumat', 'Random', 'Corner', 'timeless', 'songs']\n",
      "masalah\n",
      " ['negatif']\n",
      "positif :0\n",
      "negatif :1\n",
      "==============================================\n",
      "Cm Yang jurusan farmasi lagi ambil 24SKS absen dong gue ga sendirian kan Senin sabtu kuliah pagi sampe sore malem lanjut rapat organisasi istirahat buat nugas minggu jugs nugas sama review materi Kalo kalian gimana\n",
      "['Cm', 'Yang', 'jurusan', 'farmasi', 'lagi', 'ambil', '24SKS', 'absen', 'dong', 'gue', 'ga', 'sendirian', 'kan', 'Senin', 'sabtu', 'kuliah', 'pagi', 'sampe', 'sore', 'malem', 'lanjut', 'rapat', 'organisasi', 'istirahat', 'buat', 'nugas', 'minggu', 'jugs', 'nugas', 'sama', 'review', 'materi', 'Kalo', 'kalian', 'gimana']\n",
      "positif :0\n",
      "negatif :0\n",
      "==============================================\n",
      "Arema FC Ngandang Di Solo Segrup Dengan Persipura Arema FC ngandang di Solo dalam Piala Menpora 2021 Operator kompetisi juga sudah merilis drawing Senin 8 3 petang pialamenpora aremaFC\n",
      "['Arema', 'FC', 'Ngandang', 'Di', 'Solo', 'Segrup', 'Dengan', 'Persipura', 'Arema', 'FC', 'ngandang', 'di', 'Solo', 'dalam', 'Piala', 'Menpora', '2021', 'Operator', 'kompetisi', 'juga', 'sudah', 'merilis', 'drawing', 'Senin', '8', '3', 'petang', 'pialamenpora', 'aremaFC']\n",
      "positif :0\n",
      "negatif :0\n",
      "==============================================\n",
      "YELLOW SQUAD Kegiatan Perbaikan Jalan amp Trotoar oleh PJLP Lapangan Kecamatan Setiabudi Senin 8 Maret 2021 BeritaJakarta InfoJakarta PasukanKuning\n",
      "['YELLOW', 'SQUAD', 'Kegiatan', 'Perbaikan', 'Jalan', 'amp', 'Trotoar', 'oleh', 'PJLP', 'Lapangan', 'Kecamatan', 'Setiabudi', 'Senin', '8', 'Maret', '2021', 'BeritaJakarta', 'InfoJakarta', 'PasukanKuning']\n",
      "perbaikan\n",
      " ['positif']\n",
      "positif :1\n",
      "negatif :0\n",
      "==============================================\n",
      "grammy knp harus hari senin sih nangis w ada kelas nanti\n",
      "['grammy', 'knp', 'harus', 'hari', 'senin', 'sih', 'nangis', 'w', 'ada', 'kelas', 'nanti']\n",
      "positif :0\n",
      "negatif :0\n",
      "==============================================\n",
      "Senin malam 08 03 2021 Di bawah pimpinan Pawas Polsek Cibeunying kaler Polrestabes Aiptu Ahmad Hidayat bersama anggota patroli Intelkam Babinkamtibmas dan Linmas melakukan Himbauan woro woro dan pembubaran warga masyarakat yang berkerumun di Taman Pusdai Jalan Surapati\n",
      "['Senin', 'malam', '08', '03', '2021', 'Di', 'bawah', 'pimpinan', 'Pawas', 'Polsek', 'Cibeunying', 'kaler', 'Polrestabes', 'Aiptu', 'Ahmad', 'Hidayat', 'bersama', 'anggota', 'patroli', 'Intelkam', 'Babinkamtibmas', 'dan', 'Linmas', 'melakukan', 'Himbauan', 'woro', 'woro', 'dan', 'pembubaran', 'warga', 'masyarakat', 'yang', 'berkerumun', 'di', 'Taman', 'Pusdai', 'Jalan', 'Surapati']\n",
      "bersama\n",
      " ['positif']\n",
      "patroli\n",
      " ['positif']\n",
      "positif :2\n",
      "negatif :0\n",
      "==============================================\n",
      "Mendadak pengen makan sushi tp males keluar rmh Santai aja skrg kamu bisa order amp nikmati melalui Delivery Service Sushi Kyuden T amp C bisa kamu slide gambar di atas ya Delivery Service hanya berlaku hari Senin Jumat jam 12 00pm 07 00pm sushilovers sushikyudenbali\n",
      "['Mendadak', 'pengen', 'makan', 'sushi', 'tp', 'males', 'keluar', 'rmh', 'Santai', 'aja', 'skrg', 'kamu', 'bisa', 'order', 'amp', 'nikmati', 'melalui', 'Delivery', 'Service', 'Sushi', 'Kyuden', 'T', 'amp', 'C', 'bisa', 'kamu', 'slide', 'gambar', 'di', 'atas', 'ya', 'Delivery', 'Service', 'hanya', 'berlaku', 'hari', 'Senin', 'Jumat', 'jam', '12', '00pm', '07', '00pm', 'sushilovers', 'sushikyudenbali']\n",
      "mendadak\n",
      " ['negatif']\n",
      "makan\n",
      " ['positif']\n",
      "bisa\n",
      " ['positif']\n",
      "bisa\n",
      " ['positif']\n",
      "hanya\n",
      " ['negatif']\n",
      "positif :3\n",
      "negatif :2\n",
      "==============================================\n",
      "Pemerintah Presiden Jokowi kembali menerima pengiriman dosis vaksin Covid 19 Pada Senin 8 Maret 2021 sebanyak 1 1 juta dosis vaksin yang diperoleh melalui skema kerja sama multilateral tiba di Bndara Internasional Soekarno Hatta Tangerang sekira pukul 17 45 WIB\n",
      "['Pemerintah', 'Presiden', 'Jokowi', 'kembali', 'menerima', 'pengiriman', 'dosis', 'vaksin', 'Covid', '19', 'Pada', 'Senin', '8', 'Maret', '2021', 'sebanyak', '1', '1', 'juta', 'dosis', 'vaksin', 'yang', 'diperoleh', 'melalui', 'skema', 'kerja', 'sama', 'multilateral', 'tiba', 'di', 'Bndara', 'Internasional', 'Soekarno', 'Hatta', 'Tangerang', 'sekira', 'pukul', '17', '45', 'WIB']\n",
      "menerima\n",
      " ['positif']\n",
      "kerja\n",
      " ['positif']\n",
      "positif :2\n",
      "negatif :0\n",
      "==============================================\n",
      "Anggota Polsek Karas Dipimpin Kanit Provost Giat Operasi Yustisi Dalam Penegakan Disiplin Prokes Guna Penanganan Pencegahan Covid 19 Senin malam 8 3 2021\n",
      "['Anggota', 'Polsek', 'Karas', 'Dipimpin', 'Kanit', 'Provost', 'Giat', 'Operasi', 'Yustisi', 'Dalam', 'Penegakan', 'Disiplin', 'Prokes', 'Guna', 'Penanganan', 'Pencegahan', 'Covid', '19', 'Senin', 'malam', '8', '3', '2021']\n",
      "giat\n",
      " ['positif']\n",
      "penegakan\n",
      " ['positif']\n",
      "positif :2\n",
      "negatif :0\n",
      "==============================================\n",
      "YELLOW SQUAD Kegiatan Perbaikan Jalan amp Trotoar oleh PJLP Lapangan Kecamatan Pasar Minggu Senin 8 Maret 2021 BeritaJakarta InfoJakarta PasukanKuning\n"
     ]
    },
    {
     "name": "stdout",
     "output_type": "stream",
     "text": [
      "['YELLOW', 'SQUAD', 'Kegiatan', 'Perbaikan', 'Jalan', 'amp', 'Trotoar', 'oleh', 'PJLP', 'Lapangan', 'Kecamatan', 'Pasar', 'Minggu', 'Senin', '8', 'Maret', '2021', 'BeritaJakarta', 'InfoJakarta', 'PasukanKuning']\n",
      "perbaikan\n",
      " ['positif']\n",
      "positif :1\n",
      "negatif :0\n",
      "==============================================\n",
      "Senin 8 3 telah dilaksanakan penyerahan Mahasiswa Magang dari PPI Madiun kepada Kepala BTP Jabar yang berlangsung di Kantor BTP Jabar Jln Gedebage No 68 Bandung perkeretaapian\n",
      "['Senin', '8', '3', 'telah', 'dilaksanakan', 'penyerahan', 'Mahasiswa', 'Magang', 'dari', 'PPI', 'Madiun', 'kepada', 'Kepala', 'BTP', 'Jabar', 'yang', 'berlangsung', 'di', 'Kantor', 'BTP', 'Jabar', 'Jln', 'Gedebage', 'No', '68', 'Bandung', 'perkeretaapian']\n",
      "positif :0\n",
      "negatif :0\n",
      "==============================================\n",
      "Pernah suatu hari beliau menyampaikan sesuatu Moel kalau kamu tidak bisa memberi jangan pernah mengambil Ini terngiang terus hingga sekarang ucap Moeldoko dikutip Senin 8 3 2021\n",
      "['Pernah', 'suatu', 'hari', 'beliau', 'menyampaikan', 'sesuatu', 'Moel', 'kalau', 'kamu', 'tidak', 'bisa', 'memberi', 'jangan', 'pernah', 'mengambil', 'Ini', 'terngiang', 'terus', 'hingga', 'sekarang', 'ucap', 'Moeldoko', 'dikutip', 'Senin', '8', '3', '2021']\n",
      "bisa\n",
      " ['positif']\n",
      "positif :1\n",
      "negatif :0\n",
      "==============================================\n",
      "Pemerintah Provinsi Bengkulu mulai Senin 8 3 resmi memberlakukan pembebasan pajak kendaraan roda dua di bawah 150 cc dan akan berlaku hingga Desember 2021 Pajak pembebasanpajak bebaspajak kendaraan bengkulu lampostco\n",
      "['Pemerintah', 'Provinsi', 'Bengkulu', 'mulai', 'Senin', '8', '3', 'resmi', 'memberlakukan', 'pembebasan', 'pajak', 'kendaraan', 'roda', 'dua', 'di', 'bawah', '150', 'cc', 'dan', 'akan', 'berlaku', 'hingga', 'Desember', '2021', 'Pajak', 'pembebasanpajak', 'bebaspajak', 'kendaraan', 'bengkulu', 'lampostco']\n",
      "resmi\n",
      " ['positif']\n",
      "positif :1\n",
      "negatif :0\n",
      "==============================================\n",
      "senin selasa deh kayaknya\n",
      "['senin', 'selasa', 'deh', 'kayaknya']\n",
      "positif :0\n",
      "negatif :0\n",
      "==============================================\n",
      "Ops Yustisi Mobile System Polsek Pinangsori Senin 08 Maret 2021 Malam\n",
      "['Ops', 'Yustisi', 'Mobile', 'System', 'Polsek', 'Pinangsori', 'Senin', '08', 'Maret', '2021', 'Malam']\n",
      "positif :0\n",
      "negatif :0\n",
      "==============================================\n",
      "OH MY GOD transport kedapetan hari senin sidang proposalnya yg paling pertama\n",
      "['OH', 'MY', 'GOD', 'transport', 'kedapetan', 'hari', 'senin', 'sidang', 'proposalnya', 'yg', 'paling', 'pertama']\n",
      "positif :0\n",
      "negatif :0\n",
      "==============================================\n",
      "Dihormati setiap hari senin doang\n",
      "['Dihormati', 'setiap', 'hari', 'senin', 'doang']\n",
      "dihormati\n",
      " ['positif']\n",
      "positif :1\n",
      "negatif :0\n",
      "==============================================\n"
     ]
    }
   ],
   "source": [
    "hasil = []\n",
    "\n",
    "list_anti = ['tidak','lawan','anti', 'belum', 'belom', 'tdk', 'jangan', 'gak', 'enggak', 'bukan', 'sulit', 'tak', 'sblm']\n",
    "sentimen = {'positif':0,'negatif':0,'netral':0}\n",
    "for item in items:\n",
    "    print(item.strip())\n",
    "    tweets = item.strip().split() # tokenization\n",
    "    print(tweets) \n",
    "    count_p = 0\n",
    "    count_n = 0\n",
    "    for tweet in tweets:\n",
    "        for kata_pos in pos_kata:\n",
    "            if kata_pos.strip().lower() == tweet.lower():\n",
    "                if items[items.index(item)-1] in list_anti:\n",
    "                    print(items[items.index(item)-1],kata_pos, ['negatif'])\n",
    "                    count_n +=1\n",
    "                else:\n",
    "                    print(kata_pos, ['positif'])\n",
    "                    count_p +=1\n",
    "                          \n",
    "        for kata_neg in neg_kata:\n",
    "            if kata_neg.strip().lower() == tweet.lower():\n",
    "                if items[items.index(item)-1] in list_anti:\n",
    "                    print(items[items.index(item)-1],kata_neg, ['positif'])\n",
    "                    count_p +=1\n",
    "                else:\n",
    "                    print(kata_neg, ['negatif'])\n",
    "                    count_n +=1\n",
    "\n",
    "    print(\"positif :\"+ str(count_p))\n",
    "    print(\"negatif :\"+ str(count_n))\n",
    "    hasil.append(count_p - count_n)\n",
    "    if count_p>count_n:\n",
    "        sentimen['positif'] +=1\n",
    "    elif count_n>count_p:\n",
    "        sentimen['negatif'] +=1\n",
    "    else:\n",
    "        sentimen['netral'] +=1\n",
    "    print('==============================================')"
   ]
  },
  {
   "cell_type": "code",
   "execution_count": 159,
   "metadata": {
    "ExecuteTime": {
     "end_time": "2021-03-09T02:54:07.969354Z",
     "start_time": "2021-03-09T02:54:07.955391Z"
    }
   },
   "outputs": [],
   "source": [
    "df['sentimen value'] = hasil"
   ]
  },
  {
   "cell_type": "code",
   "execution_count": 160,
   "metadata": {
    "ExecuteTime": {
     "end_time": "2021-03-09T02:54:07.984317Z",
     "start_time": "2021-03-09T02:54:07.971356Z"
    }
   },
   "outputs": [
    {
     "data": {
      "text/plain": [
       "{'positif': 24, 'negatif': 6, 'netral': 20}"
      ]
     },
     "execution_count": 160,
     "metadata": {},
     "output_type": "execute_result"
    }
   ],
   "source": [
    "sentimen"
   ]
  },
  {
   "cell_type": "code",
   "execution_count": 161,
   "metadata": {
    "ExecuteTime": {
     "end_time": "2021-03-09T02:54:07.999246Z",
     "start_time": "2021-03-09T02:54:07.986309Z"
    }
   },
   "outputs": [],
   "source": [
    "import mplcyberpunk\n",
    "style.use('cyberpunk')"
   ]
  },
  {
   "cell_type": "code",
   "execution_count": 162,
   "metadata": {
    "ExecuteTime": {
     "end_time": "2021-03-09T02:54:08.174967Z",
     "start_time": "2021-03-09T02:54:08.001241Z"
    },
    "scrolled": false
   },
   "outputs": [
    {
     "data": {
      "image/png": "[encoded data removed]",
      "text/plain": [
       "<Figure size 1080x720 with 1 Axes>"
      ]
     },
     "metadata": {},
     "output_type": "display_data"
    }
   ],
   "source": [
    "plt.figure(figsize=(15,10))\n",
    "a= sns.countplot(data=df,x='sentimen value',palette='inferno',order = df['sentimen value'].value_counts().index)\n",
    "for p in a.patches:\n",
    "    a.annotate(str(int(p.get_height())), (p.get_x() + p.get_width() / 2., p.get_height()), ha='center', va='center', xytext=(0, 10), textcoords='offset points') \n",
    "\n",
    "plt.xticks(\n",
    "    rotation=45, \n",
    "    horizontalalignment='right',\n",
    "    fontweight='light',\n",
    "    fontsize='small' )\n",
    "plt.show()"
   ]
  },
  {
   "cell_type": "markdown",
   "metadata": {},
   "source": [
    "dari grafik diatas, terlihat bahwa kata netral dan positif jauh lebih banyak dibandingkan kata negatif. untuk menilai apakah isi twitter pada key search kita yaitu 8 Maret 2021 mempunyai sentimen positif atau negatif, kita lihat pada grafik bar berikutnya"
   ]
  },
  {
   "cell_type": "code",
   "execution_count": 163,
   "metadata": {
    "ExecuteTime": {
     "end_time": "2021-03-09T02:54:08.190762Z",
     "start_time": "2021-03-09T02:54:08.176800Z"
    }
   },
   "outputs": [],
   "source": [
    "import sidetable as stb"
   ]
  },
  {
   "cell_type": "code",
   "execution_count": 165,
   "metadata": {
    "ExecuteTime": {
     "end_time": "2021-03-09T02:54:19.064674Z",
     "start_time": "2021-03-09T02:54:18.908552Z"
    }
   },
   "outputs": [
    {
     "data": {
      "text/plain": [
       "<BarContainer object of 3 artists>"
      ]
     },
     "execution_count": 165,
     "metadata": {},
     "output_type": "execute_result"
    },
    {
     "data": {
      "image/png": "[encoded data removed]",
      "text/plain": [
       "<Figure size 1080x360 with 1 Axes>"
      ]
     },
     "metadata": {},
     "output_type": "display_data"
    }
   ],
   "source": [
    "plt.figure(figsize=(15,5))\n",
    "plt.bar(sentimen.keys(),sentimen.values(),align='center')\n",
    "\n",
    "# plt.gca().set_xticks(sentimen.keys())"
   ]
  },
  {
   "cell_type": "markdown",
   "metadata": {},
   "source": [
    "Grafik bar ini menunjukkan bahwa ternyata sentimen twitter pada tanggal 8 maret 2021 dengan kata kunci Senin mempunyai sentimen yang positif. artinya isi twit user pada hari senin lebih banyak menunjukkan hal yang positif dibandingkan negatifnya. "
   ]
  },
  {
   "cell_type": "code",
   "execution_count": null,
   "metadata": {},
   "outputs": [],
   "source": []
  },
  {
   "cell_type": "code",
   "execution_count": null,
   "metadata": {},
   "outputs": [],
   "source": []
  },
  {
   "cell_type": "code",
   "execution_count": null,
   "metadata": {},
   "outputs": [],
   "source": []
  }
 ],
 "metadata": {
  "kernelspec": {
   "display_name": "Python 3",
   "language": "python",
   "name": "python3"
  },
  "language_info": {
   "codemirror_mode": {
    "name": "ipython",
    "version": 3
   },
   "file_extension": ".py",
   "mimetype": "text/x-python",
   "name": "python",
   "nbconvert_exporter": "python",
   "pygments_lexer": "ipython3",
   "version": "3.8.3"
  },
  "toc": {
   "base_numbering": 1,
   "nav_menu": {},
   "number_sections": true,
   "sideBar": true,
   "skip_h1_title": false,
   "title_cell": "Table of Contents",
   "title_sidebar": "Contents",
   "toc_cell": false,
   "toc_position": {},
   "toc_section_display": true,
   "toc_window_display": false
  }
 },
 "nbformat": 4,
 "nbformat_minor": 4
}
